{
  "nbformat": 4,
  "nbformat_minor": 0,
  "metadata": {
    "colab": {
      "name": "F21_APS1070_Project_4.ipynb",
      "provenance": [],
      "collapsed_sections": []
    },
    "kernelspec": {
      "display_name": "Python 3",
      "language": "python",
      "name": "python3"
    },
    "language_info": {
      "codemirror_mode": {
        "name": "ipython",
        "version": 3
      },
      "file_extension": ".py",
      "mimetype": "text/x-python",
      "name": "python",
      "nbconvert_exporter": "python",
      "pygments_lexer": "ipython3",
      "version": "3.7.4"
    }
  },
  "cells": [
    {
      "cell_type": "markdown",
      "metadata": {
        "id": "OTpnyUEJrAjE"
      },
      "source": [
        "# Project 4, APS1070 Fall 2021\n",
        "#### **Linear Regression -  13 points**\n",
        "**Deadline: Nov 26, 21:00**\n",
        "\n",
        "**Academic Integrity**\n",
        "\n",
        "This project is individual - it is to be completed on your own. If you have questions, please post your query in the APS1070 Piazza Q&A forums (the answer might be useful to others!).\n",
        "\n",
        "Do not share your code with others, or post your work online. Do not submit code that you have not written yourself. Students suspected of plagiarism on a project, midterm or exam will be referred to the department for formal discipline for breaches of the Student Code of Conduct."
      ]
    },
    {
      "cell_type": "markdown",
      "metadata": {
        "id": "fUdJ6xw3rJIG"
      },
      "source": [
        "Please fill out the following:\n",
        "\n",
        "\n",
        "*   Your **name**: Fengyi Xiao\n",
        "*   Your **student number**: 1002956232\n",
        "\n"
      ]
    },
    {
      "cell_type": "markdown",
      "metadata": {
        "id": "o4UwjkNZ3NGk"
      },
      "source": [
        "## Part 1 - Getting Started [1.5 marks]"
      ]
    },
    {
      "cell_type": "markdown",
      "metadata": {
        "id": "Y62qieYVbct2"
      },
      "source": [
        "Ailerons are small hinged sections on the outboard portion of a wing used to control the roll of an airplane. In this project, we are going to design a controller to manage the ailerons of an aircraft based on supervised learning.\n",
        "\n",
        "![Aileron](https://www.eecg.utoronto.ca/~hadizade/APS1070/p3Ar.jpg)\n",
        "\n",
        "\n"
      ]
    },
    {
      "cell_type": "markdown",
      "metadata": {
        "id": "sdPttalS9MfU"
      },
      "source": [
        "The following dataset contains 13750 instances, where each instance is a set of 40 features describing the airplane's status. Our goal is to use these features to predict the `Goal` column, which is a command that our controller should issue. We will make our predictions by implementing linear regression."
      ]
    },
    {
      "cell_type": "code",
      "metadata": {
        "id": "wVI7N2nWbct3"
      },
      "source": [
        "import pandas as pd\n",
        "import numpy as np\n",
        "\n",
        "df=pd.read_csv(\"https://raw.githubusercontent.com/aps1070-2019/datasets/master/F16L.csv\" , skipinitialspace=True)"
      ],
      "execution_count": null,
      "outputs": []
    },
    {
      "cell_type": "markdown",
      "metadata": {
        "id": "MKRMb9Ju3NGl"
      },
      "source": [
        "Here are the steps to complete this portion:\n",
        "\n",
        "1. Print the dataframe.\n",
        "2. Prepare your dataset as follows: **[0.5]**\n",
        "  *   Using `train_test_split` from Sklearn, split the dataset into training, validation, and test sets ($70\\%$ training, $15\\%$ validation, and $15\\%$ test). When splitting, set `random_state=1`.\n",
        "  *   Standardize the data using `StandardScaler` from sklearn. \n",
        "  *   Insert the first column of all $1$s in the training, validation, and test set.\n",
        " \n",
        "3. Explain the difference between epoch and iteration in the Gradient descent algorithm (SGD/mini-batch)? **[1]**"
      ]
    },
    {
      "cell_type": "code",
      "metadata": {
        "id": "barDBI-f5Q9s",
        "colab": {
          "base_uri": "https://localhost:8080/",
          "height": 461
        },
        "outputId": "c867f0b9-6b47-4ab8-b2a0-082cf81d7824"
      },
      "source": [
        "### YOUR CODE HERE ###\n",
        "df"
      ],
      "execution_count": null,
      "outputs": [
        {
          "output_type": "execute_result",
          "data": {
            "text/html": [
              "<div>\n",
              "<style scoped>\n",
              "    .dataframe tbody tr th:only-of-type {\n",
              "        vertical-align: middle;\n",
              "    }\n",
              "\n",
              "    .dataframe tbody tr th {\n",
              "        vertical-align: top;\n",
              "    }\n",
              "\n",
              "    .dataframe thead th {\n",
              "        text-align: right;\n",
              "    }\n",
              "</style>\n",
              "<table border=\"1\" class=\"dataframe\">\n",
              "  <thead>\n",
              "    <tr style=\"text-align: right;\">\n",
              "      <th></th>\n",
              "      <th>inputs ClimbRate</th>\n",
              "      <th>Sgz</th>\n",
              "      <th>P</th>\n",
              "      <th>Q</th>\n",
              "      <th>CurPitch</th>\n",
              "      <th>CurRoll</th>\n",
              "      <th>AbsRoll</th>\n",
              "      <th>DiffClb</th>\n",
              "      <th>DiffRollRate</th>\n",
              "      <th>DiffDiffClb</th>\n",
              "      <th>SeTime1</th>\n",
              "      <th>SeTime2</th>\n",
              "      <th>SeTime3</th>\n",
              "      <th>SeTime4</th>\n",
              "      <th>SeTime5</th>\n",
              "      <th>SeTime6</th>\n",
              "      <th>SeTime7</th>\n",
              "      <th>SeTime8</th>\n",
              "      <th>SeTime9</th>\n",
              "      <th>SeTime10</th>\n",
              "      <th>SeTime11</th>\n",
              "      <th>SeTime12</th>\n",
              "      <th>SeTime13</th>\n",
              "      <th>SeTime14</th>\n",
              "      <th>DiffSeTime1</th>\n",
              "      <th>DiffSeTime2</th>\n",
              "      <th>DiffSeTime3</th>\n",
              "      <th>DiffSeTime4</th>\n",
              "      <th>DiffSeTime5</th>\n",
              "      <th>DiffSeTime6</th>\n",
              "      <th>DiffSeTime7</th>\n",
              "      <th>DiffSeTime8</th>\n",
              "      <th>DiffSeTime9</th>\n",
              "      <th>DiffSeTime10</th>\n",
              "      <th>DiffSeTime11</th>\n",
              "      <th>DiffSeTime12</th>\n",
              "      <th>DiffSeTime13</th>\n",
              "      <th>DiffSeTime14</th>\n",
              "      <th>Alpha</th>\n",
              "      <th>Se</th>\n",
              "      <th>Goal</th>\n",
              "    </tr>\n",
              "  </thead>\n",
              "  <tbody>\n",
              "    <tr>\n",
              "      <th>0</th>\n",
              "      <td>-17</td>\n",
              "      <td>-6</td>\n",
              "      <td>-0.03</td>\n",
              "      <td>0.14</td>\n",
              "      <td>0.59</td>\n",
              "      <td>-0.5</td>\n",
              "      <td>-11</td>\n",
              "      <td>-9</td>\n",
              "      <td>0.015</td>\n",
              "      <td>-0.2</td>\n",
              "      <td>0.019</td>\n",
              "      <td>0.019</td>\n",
              "      <td>0.019</td>\n",
              "      <td>0.020</td>\n",
              "      <td>0.020</td>\n",
              "      <td>0.020</td>\n",
              "      <td>0.020</td>\n",
              "      <td>0.021</td>\n",
              "      <td>0.021</td>\n",
              "      <td>0.021</td>\n",
              "      <td>0.021</td>\n",
              "      <td>0.021</td>\n",
              "      <td>0.021</td>\n",
              "      <td>0.021</td>\n",
              "      <td>0.000</td>\n",
              "      <td>0.0</td>\n",
              "      <td>-0.002</td>\n",
              "      <td>0.0</td>\n",
              "      <td>0.0</td>\n",
              "      <td>0.0</td>\n",
              "      <td>-0.002</td>\n",
              "      <td>0.0</td>\n",
              "      <td>0.000</td>\n",
              "      <td>0.0</td>\n",
              "      <td>0.000</td>\n",
              "      <td>0.0</td>\n",
              "      <td>0.000</td>\n",
              "      <td>0.0</td>\n",
              "      <td>0.6</td>\n",
              "      <td>0.021</td>\n",
              "      <td>-0.0008</td>\n",
              "    </tr>\n",
              "    <tr>\n",
              "      <th>1</th>\n",
              "      <td>-791</td>\n",
              "      <td>15</td>\n",
              "      <td>-0.28</td>\n",
              "      <td>-0.34</td>\n",
              "      <td>1.11</td>\n",
              "      <td>0.9</td>\n",
              "      <td>-10</td>\n",
              "      <td>27</td>\n",
              "      <td>-0.002</td>\n",
              "      <td>4.7</td>\n",
              "      <td>0.013</td>\n",
              "      <td>0.013</td>\n",
              "      <td>0.013</td>\n",
              "      <td>0.013</td>\n",
              "      <td>0.013</td>\n",
              "      <td>0.013</td>\n",
              "      <td>0.013</td>\n",
              "      <td>0.013</td>\n",
              "      <td>0.013</td>\n",
              "      <td>0.013</td>\n",
              "      <td>0.013</td>\n",
              "      <td>0.013</td>\n",
              "      <td>0.013</td>\n",
              "      <td>0.013</td>\n",
              "      <td>0.000</td>\n",
              "      <td>0.0</td>\n",
              "      <td>0.000</td>\n",
              "      <td>0.0</td>\n",
              "      <td>0.0</td>\n",
              "      <td>0.0</td>\n",
              "      <td>0.000</td>\n",
              "      <td>0.0</td>\n",
              "      <td>0.000</td>\n",
              "      <td>0.0</td>\n",
              "      <td>0.000</td>\n",
              "      <td>0.0</td>\n",
              "      <td>0.000</td>\n",
              "      <td>0.0</td>\n",
              "      <td>0.4</td>\n",
              "      <td>0.013</td>\n",
              "      <td>-0.0009</td>\n",
              "    </tr>\n",
              "    <tr>\n",
              "      <th>2</th>\n",
              "      <td>-46</td>\n",
              "      <td>48</td>\n",
              "      <td>-0.42</td>\n",
              "      <td>0.07</td>\n",
              "      <td>0.57</td>\n",
              "      <td>0.6</td>\n",
              "      <td>-5</td>\n",
              "      <td>-8</td>\n",
              "      <td>-0.008</td>\n",
              "      <td>0.0</td>\n",
              "      <td>0.018</td>\n",
              "      <td>0.019</td>\n",
              "      <td>0.019</td>\n",
              "      <td>0.019</td>\n",
              "      <td>0.019</td>\n",
              "      <td>0.019</td>\n",
              "      <td>0.019</td>\n",
              "      <td>0.019</td>\n",
              "      <td>0.019</td>\n",
              "      <td>0.019</td>\n",
              "      <td>0.019</td>\n",
              "      <td>0.019</td>\n",
              "      <td>0.019</td>\n",
              "      <td>0.019</td>\n",
              "      <td>-0.002</td>\n",
              "      <td>0.0</td>\n",
              "      <td>0.000</td>\n",
              "      <td>0.0</td>\n",
              "      <td>0.0</td>\n",
              "      <td>0.0</td>\n",
              "      <td>0.000</td>\n",
              "      <td>0.0</td>\n",
              "      <td>0.000</td>\n",
              "      <td>0.0</td>\n",
              "      <td>0.000</td>\n",
              "      <td>0.0</td>\n",
              "      <td>0.000</td>\n",
              "      <td>0.0</td>\n",
              "      <td>0.5</td>\n",
              "      <td>0.019</td>\n",
              "      <td>-0.0005</td>\n",
              "    </tr>\n",
              "    <tr>\n",
              "      <th>3</th>\n",
              "      <td>496</td>\n",
              "      <td>-5</td>\n",
              "      <td>-0.21</td>\n",
              "      <td>-0.04</td>\n",
              "      <td>0.03</td>\n",
              "      <td>-0.5</td>\n",
              "      <td>-7</td>\n",
              "      <td>6</td>\n",
              "      <td>-0.002</td>\n",
              "      <td>-0.1</td>\n",
              "      <td>0.019</td>\n",
              "      <td>0.019</td>\n",
              "      <td>0.019</td>\n",
              "      <td>0.019</td>\n",
              "      <td>0.019</td>\n",
              "      <td>0.019</td>\n",
              "      <td>0.019</td>\n",
              "      <td>0.019</td>\n",
              "      <td>0.019</td>\n",
              "      <td>0.019</td>\n",
              "      <td>0.019</td>\n",
              "      <td>0.018</td>\n",
              "      <td>0.018</td>\n",
              "      <td>0.017</td>\n",
              "      <td>-0.001</td>\n",
              "      <td>0.0</td>\n",
              "      <td>0.000</td>\n",
              "      <td>0.0</td>\n",
              "      <td>0.0</td>\n",
              "      <td>0.0</td>\n",
              "      <td>0.000</td>\n",
              "      <td>0.0</td>\n",
              "      <td>0.000</td>\n",
              "      <td>0.0</td>\n",
              "      <td>0.001</td>\n",
              "      <td>0.0</td>\n",
              "      <td>0.001</td>\n",
              "      <td>0.0</td>\n",
              "      <td>0.5</td>\n",
              "      <td>0.017</td>\n",
              "      <td>-0.0005</td>\n",
              "    </tr>\n",
              "    <tr>\n",
              "      <th>4</th>\n",
              "      <td>-124</td>\n",
              "      <td>16</td>\n",
              "      <td>-0.02</td>\n",
              "      <td>0.05</td>\n",
              "      <td>0.61</td>\n",
              "      <td>-0.2</td>\n",
              "      <td>-9</td>\n",
              "      <td>-3</td>\n",
              "      <td>0.000</td>\n",
              "      <td>0.0</td>\n",
              "      <td>0.018</td>\n",
              "      <td>0.018</td>\n",
              "      <td>0.018</td>\n",
              "      <td>0.018</td>\n",
              "      <td>0.018</td>\n",
              "      <td>0.018</td>\n",
              "      <td>0.018</td>\n",
              "      <td>0.018</td>\n",
              "      <td>0.018</td>\n",
              "      <td>0.018</td>\n",
              "      <td>0.018</td>\n",
              "      <td>0.018</td>\n",
              "      <td>0.018</td>\n",
              "      <td>0.018</td>\n",
              "      <td>0.000</td>\n",
              "      <td>0.0</td>\n",
              "      <td>0.000</td>\n",
              "      <td>0.0</td>\n",
              "      <td>0.0</td>\n",
              "      <td>0.0</td>\n",
              "      <td>0.000</td>\n",
              "      <td>0.0</td>\n",
              "      <td>0.000</td>\n",
              "      <td>0.0</td>\n",
              "      <td>0.000</td>\n",
              "      <td>0.0</td>\n",
              "      <td>0.000</td>\n",
              "      <td>0.0</td>\n",
              "      <td>0.5</td>\n",
              "      <td>0.018</td>\n",
              "      <td>-0.0006</td>\n",
              "    </tr>\n",
              "    <tr>\n",
              "      <th>...</th>\n",
              "      <td>...</td>\n",
              "      <td>...</td>\n",
              "      <td>...</td>\n",
              "      <td>...</td>\n",
              "      <td>...</td>\n",
              "      <td>...</td>\n",
              "      <td>...</td>\n",
              "      <td>...</td>\n",
              "      <td>...</td>\n",
              "      <td>...</td>\n",
              "      <td>...</td>\n",
              "      <td>...</td>\n",
              "      <td>...</td>\n",
              "      <td>...</td>\n",
              "      <td>...</td>\n",
              "      <td>...</td>\n",
              "      <td>...</td>\n",
              "      <td>...</td>\n",
              "      <td>...</td>\n",
              "      <td>...</td>\n",
              "      <td>...</td>\n",
              "      <td>...</td>\n",
              "      <td>...</td>\n",
              "      <td>...</td>\n",
              "      <td>...</td>\n",
              "      <td>...</td>\n",
              "      <td>...</td>\n",
              "      <td>...</td>\n",
              "      <td>...</td>\n",
              "      <td>...</td>\n",
              "      <td>...</td>\n",
              "      <td>...</td>\n",
              "      <td>...</td>\n",
              "      <td>...</td>\n",
              "      <td>...</td>\n",
              "      <td>...</td>\n",
              "      <td>...</td>\n",
              "      <td>...</td>\n",
              "      <td>...</td>\n",
              "      <td>...</td>\n",
              "      <td>...</td>\n",
              "    </tr>\n",
              "    <tr>\n",
              "      <th>13745</th>\n",
              "      <td>-53</td>\n",
              "      <td>-13</td>\n",
              "      <td>-0.07</td>\n",
              "      <td>0.02</td>\n",
              "      <td>0.58</td>\n",
              "      <td>-2.3</td>\n",
              "      <td>-15</td>\n",
              "      <td>12</td>\n",
              "      <td>0.022</td>\n",
              "      <td>-0.8</td>\n",
              "      <td>0.019</td>\n",
              "      <td>0.019</td>\n",
              "      <td>0.019</td>\n",
              "      <td>0.019</td>\n",
              "      <td>0.019</td>\n",
              "      <td>0.019</td>\n",
              "      <td>0.019</td>\n",
              "      <td>0.019</td>\n",
              "      <td>0.019</td>\n",
              "      <td>0.019</td>\n",
              "      <td>0.019</td>\n",
              "      <td>0.019</td>\n",
              "      <td>0.019</td>\n",
              "      <td>0.019</td>\n",
              "      <td>0.000</td>\n",
              "      <td>0.0</td>\n",
              "      <td>0.000</td>\n",
              "      <td>0.0</td>\n",
              "      <td>0.0</td>\n",
              "      <td>0.0</td>\n",
              "      <td>0.000</td>\n",
              "      <td>0.0</td>\n",
              "      <td>0.000</td>\n",
              "      <td>0.0</td>\n",
              "      <td>0.000</td>\n",
              "      <td>0.0</td>\n",
              "      <td>-0.001</td>\n",
              "      <td>0.0</td>\n",
              "      <td>0.5</td>\n",
              "      <td>0.019</td>\n",
              "      <td>-0.0007</td>\n",
              "    </tr>\n",
              "    <tr>\n",
              "      <th>13746</th>\n",
              "      <td>1</td>\n",
              "      <td>4</td>\n",
              "      <td>-0.11</td>\n",
              "      <td>-0.07</td>\n",
              "      <td>0.47</td>\n",
              "      <td>0.8</td>\n",
              "      <td>-5</td>\n",
              "      <td>8</td>\n",
              "      <td>-0.003</td>\n",
              "      <td>-0.2</td>\n",
              "      <td>0.016</td>\n",
              "      <td>0.016</td>\n",
              "      <td>0.016</td>\n",
              "      <td>0.016</td>\n",
              "      <td>0.016</td>\n",
              "      <td>0.016</td>\n",
              "      <td>0.016</td>\n",
              "      <td>0.016</td>\n",
              "      <td>0.016</td>\n",
              "      <td>0.016</td>\n",
              "      <td>0.016</td>\n",
              "      <td>0.016</td>\n",
              "      <td>0.016</td>\n",
              "      <td>0.016</td>\n",
              "      <td>0.000</td>\n",
              "      <td>0.0</td>\n",
              "      <td>0.000</td>\n",
              "      <td>0.0</td>\n",
              "      <td>0.0</td>\n",
              "      <td>0.0</td>\n",
              "      <td>0.000</td>\n",
              "      <td>0.0</td>\n",
              "      <td>0.000</td>\n",
              "      <td>0.0</td>\n",
              "      <td>0.000</td>\n",
              "      <td>0.0</td>\n",
              "      <td>0.000</td>\n",
              "      <td>0.0</td>\n",
              "      <td>0.5</td>\n",
              "      <td>0.016</td>\n",
              "      <td>-0.0004</td>\n",
              "    </tr>\n",
              "    <tr>\n",
              "      <th>13747</th>\n",
              "      <td>425</td>\n",
              "      <td>-14</td>\n",
              "      <td>0.40</td>\n",
              "      <td>0.07</td>\n",
              "      <td>0.41</td>\n",
              "      <td>-2.1</td>\n",
              "      <td>-16</td>\n",
              "      <td>12</td>\n",
              "      <td>0.031</td>\n",
              "      <td>-0.7</td>\n",
              "      <td>0.035</td>\n",
              "      <td>0.035</td>\n",
              "      <td>0.035</td>\n",
              "      <td>0.035</td>\n",
              "      <td>0.035</td>\n",
              "      <td>0.035</td>\n",
              "      <td>0.035</td>\n",
              "      <td>0.035</td>\n",
              "      <td>0.035</td>\n",
              "      <td>0.034</td>\n",
              "      <td>0.034</td>\n",
              "      <td>0.034</td>\n",
              "      <td>0.034</td>\n",
              "      <td>0.032</td>\n",
              "      <td>0.000</td>\n",
              "      <td>0.0</td>\n",
              "      <td>0.000</td>\n",
              "      <td>0.0</td>\n",
              "      <td>0.0</td>\n",
              "      <td>0.0</td>\n",
              "      <td>0.000</td>\n",
              "      <td>0.0</td>\n",
              "      <td>0.001</td>\n",
              "      <td>0.0</td>\n",
              "      <td>0.000</td>\n",
              "      <td>0.0</td>\n",
              "      <td>0.001</td>\n",
              "      <td>0.0</td>\n",
              "      <td>0.9</td>\n",
              "      <td>0.032</td>\n",
              "      <td>-0.0015</td>\n",
              "    </tr>\n",
              "    <tr>\n",
              "      <th>13748</th>\n",
              "      <td>102</td>\n",
              "      <td>-10</td>\n",
              "      <td>-0.19</td>\n",
              "      <td>0.08</td>\n",
              "      <td>1.30</td>\n",
              "      <td>0.5</td>\n",
              "      <td>-10</td>\n",
              "      <td>-3</td>\n",
              "      <td>-0.003</td>\n",
              "      <td>-0.2</td>\n",
              "      <td>0.051</td>\n",
              "      <td>0.051</td>\n",
              "      <td>0.051</td>\n",
              "      <td>0.051</td>\n",
              "      <td>0.051</td>\n",
              "      <td>0.051</td>\n",
              "      <td>0.051</td>\n",
              "      <td>0.051</td>\n",
              "      <td>0.051</td>\n",
              "      <td>0.051</td>\n",
              "      <td>0.051</td>\n",
              "      <td>0.051</td>\n",
              "      <td>0.051</td>\n",
              "      <td>0.051</td>\n",
              "      <td>0.000</td>\n",
              "      <td>0.0</td>\n",
              "      <td>0.000</td>\n",
              "      <td>0.0</td>\n",
              "      <td>0.0</td>\n",
              "      <td>0.0</td>\n",
              "      <td>0.000</td>\n",
              "      <td>0.0</td>\n",
              "      <td>0.000</td>\n",
              "      <td>0.0</td>\n",
              "      <td>0.000</td>\n",
              "      <td>0.0</td>\n",
              "      <td>0.000</td>\n",
              "      <td>0.0</td>\n",
              "      <td>1.4</td>\n",
              "      <td>0.051</td>\n",
              "      <td>-0.0015</td>\n",
              "    </tr>\n",
              "    <tr>\n",
              "      <th>13749</th>\n",
              "      <td>-165</td>\n",
              "      <td>52</td>\n",
              "      <td>0.08</td>\n",
              "      <td>0.42</td>\n",
              "      <td>1.07</td>\n",
              "      <td>-1.6</td>\n",
              "      <td>-22</td>\n",
              "      <td>-15</td>\n",
              "      <td>0.007</td>\n",
              "      <td>0.0</td>\n",
              "      <td>0.033</td>\n",
              "      <td>0.034</td>\n",
              "      <td>0.034</td>\n",
              "      <td>0.034</td>\n",
              "      <td>0.034</td>\n",
              "      <td>0.034</td>\n",
              "      <td>0.034</td>\n",
              "      <td>0.034</td>\n",
              "      <td>0.034</td>\n",
              "      <td>0.034</td>\n",
              "      <td>0.034</td>\n",
              "      <td>0.034</td>\n",
              "      <td>0.034</td>\n",
              "      <td>0.034</td>\n",
              "      <td>-0.002</td>\n",
              "      <td>0.0</td>\n",
              "      <td>0.000</td>\n",
              "      <td>0.0</td>\n",
              "      <td>0.0</td>\n",
              "      <td>0.0</td>\n",
              "      <td>0.000</td>\n",
              "      <td>0.0</td>\n",
              "      <td>0.000</td>\n",
              "      <td>0.0</td>\n",
              "      <td>0.000</td>\n",
              "      <td>0.0</td>\n",
              "      <td>0.000</td>\n",
              "      <td>0.0</td>\n",
              "      <td>0.9</td>\n",
              "      <td>0.034</td>\n",
              "      <td>-0.0018</td>\n",
              "    </tr>\n",
              "  </tbody>\n",
              "</table>\n",
              "<p>13750 rows × 41 columns</p>\n",
              "</div>"
            ],
            "text/plain": [
              "       inputs ClimbRate  Sgz     P     Q  ...  DiffSeTime14  Alpha     Se    Goal\n",
              "0                   -17   -6 -0.03  0.14  ...           0.0    0.6  0.021 -0.0008\n",
              "1                  -791   15 -0.28 -0.34  ...           0.0    0.4  0.013 -0.0009\n",
              "2                   -46   48 -0.42  0.07  ...           0.0    0.5  0.019 -0.0005\n",
              "3                   496   -5 -0.21 -0.04  ...           0.0    0.5  0.017 -0.0005\n",
              "4                  -124   16 -0.02  0.05  ...           0.0    0.5  0.018 -0.0006\n",
              "...                 ...  ...   ...   ...  ...           ...    ...    ...     ...\n",
              "13745               -53  -13 -0.07  0.02  ...           0.0    0.5  0.019 -0.0007\n",
              "13746                 1    4 -0.11 -0.07  ...           0.0    0.5  0.016 -0.0004\n",
              "13747               425  -14  0.40  0.07  ...           0.0    0.9  0.032 -0.0015\n",
              "13748               102  -10 -0.19  0.08  ...           0.0    1.4  0.051 -0.0015\n",
              "13749              -165   52  0.08  0.42  ...           0.0    0.9  0.034 -0.0018\n",
              "\n",
              "[13750 rows x 41 columns]"
            ]
          },
          "metadata": {},
          "execution_count": 73
        }
      ]
    },
    {
      "cell_type": "code",
      "metadata": {
        "id": "ucpuUU53nRpc"
      },
      "source": [
        "import matplotlib.pyplot as plt\n",
        "import seaborn as sns\n",
        "from sklearn.model_selection import train_test_split\n",
        "from sklearn.preprocessing import StandardScaler\n",
        "\n",
        "X = df[df.columns[:-1]]\n",
        "y = df.Goal\n",
        "X_train, X_test, y_train, y_test = train_test_split(X, y, test_size=0.15, random_state=1)\n",
        "\n",
        "X_train, X_val, y_train, y_val = train_test_split(X_train, y_train, train_size= (0.7/0.85), random_state=1)\n",
        "\n",
        "Scaler = StandardScaler()\n",
        "X_train_std = Scaler.fit_transform(X_train)\n",
        "X_test_std = Scaler.transform(X_test)\n",
        "X_val_std = Scaler.transform(X_val)"
      ],
      "execution_count": null,
      "outputs": []
    },
    {
      "cell_type": "code",
      "metadata": {
        "id": "ncaeqT_WyNRo"
      },
      "source": [
        "one_col1 = np.ones((1,X_train_std.shape[0]))\n",
        "X_train_std= np.insert(X_train_std,0,one_col1,axis = 1)"
      ],
      "execution_count": null,
      "outputs": []
    },
    {
      "cell_type": "code",
      "metadata": {
        "colab": {
          "base_uri": "https://localhost:8080/"
        },
        "id": "j_5BGZEeDneo",
        "outputId": "e38d72cd-d903-4706-d324-a3b21595fad4"
      },
      "source": [
        "X_train_std"
      ],
      "execution_count": null,
      "outputs": [
        {
          "output_type": "execute_result",
          "data": {
            "text/plain": [
              "array([[ 1.        ,  0.3004541 , -0.58575452, ...,  0.01177122,\n",
              "         1.39835202,  1.42773998],\n",
              "       [ 1.        , -1.02505276,  0.75892079, ...,  0.01177122,\n",
              "         0.89251703,  0.99924434],\n",
              "       [ 1.        ,  0.62608439, -0.77785099, ...,  0.01177122,\n",
              "        -0.62498793, -0.85757008],\n",
              "       ...,\n",
              "       [ 1.        ,  1.43058277, -0.77785099, ...,  0.01177122,\n",
              "        -0.11915294, -0.28624256],\n",
              "       [ 1.        ,  0.58011306, -0.7010124 , ...,  0.01177122,\n",
              "         1.39835202,  1.2849081 ],\n",
              "       [ 1.        , -1.06336221, -2.00726841, ...,  0.01177122,\n",
              "        -0.11915294, -0.28624256]])"
            ]
          },
          "metadata": {},
          "execution_count": 4
        }
      ]
    },
    {
      "cell_type": "code",
      "metadata": {
        "id": "oRbgEKuBRLeH"
      },
      "source": [
        "one_col2 = np.ones((1,X_val_std.shape[0]))\n",
        "X_val_std= np.insert(X_val_std,0,one_col2,axis = 1)"
      ],
      "execution_count": null,
      "outputs": []
    },
    {
      "cell_type": "code",
      "metadata": {
        "colab": {
          "base_uri": "https://localhost:8080/"
        },
        "id": "MSxy7uG7DNkZ",
        "outputId": "66a7870e-c667-44cc-f23e-0dc753a711f6"
      },
      "source": [
        "X_val_std"
      ],
      "execution_count": null,
      "outputs": [
        {
          "output_type": "execute_result",
          "data": {
            "text/plain": [
              "array([[ 1.        ,  0.84827918, -0.20156157, ...,  0.01177122,\n",
              "         0.89251703,  0.71358058],\n",
              "       [ 1.        ,  1.22371176, -0.23998087, ...,  0.01177122,\n",
              "        -0.11915294, -0.28624256],\n",
              "       [ 1.        , -0.82967458, -1.54623688, ...,  0.01177122,\n",
              "         2.91585697,  2.85605876],\n",
              "       ...,\n",
              "       [ 1.        , -2.01726743, -0.50891593, ...,  0.01177122,\n",
              "        -0.11915294, -0.28624256],\n",
              "       [ 1.        , -1.18212149,  0.48998572, ...,  0.01177122,\n",
              "        -0.62498793, -0.57190632],\n",
              "       [ 1.        , -1.30088077, -0.20156157, ...,  0.01177122,\n",
              "        -0.62498793, -0.7147382 ]])"
            ]
          },
          "metadata": {},
          "execution_count": 6
        }
      ]
    },
    {
      "cell_type": "code",
      "metadata": {
        "id": "Ti-IrFvSPdBc"
      },
      "source": [
        "one_col3 = np.ones((1,X_test_std.shape[0]))\n",
        "X_test_std= np.insert(X_test_std,0,one_col3,axis = 1)"
      ],
      "execution_count": null,
      "outputs": []
    },
    {
      "cell_type": "code",
      "metadata": {
        "colab": {
          "base_uri": "https://localhost:8080/"
        },
        "id": "REXsyDbBEGGs",
        "outputId": "d4e63fae-8870-499b-8930-e23101c720cf"
      },
      "source": [
        "X_test_std"
      ],
      "execution_count": null,
      "outputs": [
        {
          "output_type": "execute_result",
          "data": {
            "text/plain": [
              "array([[ 1.        ,  0.68354856,  1.06627514, ...,  0.01177122,\n",
              "        -0.11915294, -0.14341069],\n",
              "       [ 1.        ,  0.05910458, -0.62417381, ...,  0.01177122,\n",
              "        -0.62498793, -0.57190632],\n",
              "       [ 1.        ,  0.10507592, -0.0094651 , ...,  0.01177122,\n",
              "         1.39835202,  1.2849081 ],\n",
              "       ...,\n",
              "       [ 1.        , -1.27023322,  0.6820822 , ...,  0.01177122,\n",
              "        -0.62498793, -0.42907444],\n",
              "       [ 1.        ,  0.02845702, -0.7010124 , ...,  0.01177122,\n",
              "        -0.11915294, -0.28624256],\n",
              "       [ 1.        ,  0.41155149,  0.41314714, ...,  0.01177122,\n",
              "        -0.62498793, -0.42907444]])"
            ]
          },
          "metadata": {},
          "execution_count": 8
        }
      ]
    },
    {
      "cell_type": "markdown",
      "metadata": {
        "id": "OWBZEAW0Rues"
      },
      "source": [
        "3. Explain the difference between epoch and iteration in the Gradient descent algorithm (SGD/mini-batch)? \n",
        "\n",
        "**Later**\n",
        "\n",
        "Gradient descent is an iterative algorithm.\n",
        "We initialize a starting point and repeatedly adjust based on the direction of steepest descent.\n",
        "\n",
        "Each time we update the weights is called an iteration.\n",
        "Each time the model sees (learns) the whole dataset - epoch\n",
        "\n",
        "Full batch GD:Whole dataset in one package and One epoch is one iteration.\n",
        "\n",
        "Mini batch GD:Break dataset to k smaller batches (mini batch) and One epoch takes k iterations.\n",
        "\n",
        "SGD:Each of the n samples is a batch and One epoch takes n iterations ."
      ]
    },
    {
      "cell_type": "markdown",
      "metadata": {
        "id": "EQ6KBnbpbcuE"
      },
      "source": [
        "## Part 2 - Linear Regression Using Direct Solution [1 marks]"
      ]
    },
    {
      "cell_type": "markdown",
      "metadata": {
        "id": "qh9g1ead3NG-"
      },
      "source": [
        "Implement the direct solution of the linear regression problem on the training set. **[0.5]**\n",
        "\n",
        "**Note: You should use scipy.linalg.inv to perform the matrix inversion, as numpy.linalg.inv may cause numerical issues.**\n",
        "\n",
        "Report the root-mean-square error (RMSE) for both the training and validation sets. **[0.5]**\n",
        "\n",
        "You may use `mean_squared_error` from Sklearn for computing the RMSE."
      ]
    },
    {
      "cell_type": "code",
      "metadata": {
        "id": "FzLJgLvy5Re4",
        "colab": {
          "base_uri": "https://localhost:8080/"
        },
        "outputId": "323d11ec-ac24-41ec-b3f6-ab2fd6d8aedd"
      },
      "source": [
        "### YOUR CODE HERE ###\n",
        "from sklearn.linear_model import LinearRegression\n",
        "from sklearn.linear_model import Ridge\n",
        "from sklearn.preprocessing import PolynomialFeatures\n",
        "from sklearn.metrics import mean_squared_error\n",
        "import scipy\n",
        "\n",
        "\n",
        "W = np.dot(scipy.linalg.inv(np.dot(X_train_std.T, X_train_std)), np.dot(X_train_std.T, y_train))\n",
        "print(W)\n",
        "yPred_train = np.dot(X_train_std, W)\n",
        "yPred_val = np.dot(X_val_std, W)\n",
        "\n",
        "#theta_train = direct_sol(X_train_std,y_train)\n",
        "#theta_val = direct_sol(X_val_std,y_val)\n",
        "\n",
        "def rmse(yPred, y):\n",
        "    print(np.sqrt(mean_squared_error(yPred, y)))"
      ],
      "execution_count": null,
      "outputs": [
        {
          "output_type": "stream",
          "name": "stdout",
          "text": [
            "[-8.73919368e-04  6.19785098e-05  6.06305482e-06 -1.29423842e-04\n",
            " -3.48444767e-07  8.08820959e-05 -8.33295686e-05  2.40674793e-04\n",
            " -3.50244106e-05  3.30045169e-05  1.23878468e-06  1.08204574e-04\n",
            "  1.18417301e-03 -1.18308188e-03 -1.19364733e-03  9.52413446e-04\n",
            " -3.64267887e-03  3.73755013e-03  2.67109773e-03 -2.68277006e-03\n",
            "  2.81835721e-04 -4.45895325e-04 -2.28719653e-04  4.13269128e-04\n",
            "  1.19556652e-03 -1.16035682e-05  1.08890358e-06 -4.40515597e-06\n",
            "  4.17506503e-06  8.88711666e-07  1.96972779e-05 -8.53134187e-06\n",
            " -9.56223464e-07 -8.91242387e-06 -2.79333596e-06  3.10844326e-06\n",
            "  1.16456071e-07 -5.70620556e-06 -4.20244971e-06 -3.14987234e-05\n",
            " -1.38254977e-03]\n"
          ]
        }
      ]
    },
    {
      "cell_type": "code",
      "metadata": {
        "colab": {
          "base_uri": "https://localhost:8080/"
        },
        "id": "4rmZPhez_XSn",
        "outputId": "d1d91f4f-02a6-4be1-a8a5-c14b256b836b"
      },
      "source": [
        "RMSE_train = np.sqrt(mean_squared_error(yPred_train, y_train))\n",
        "print(RMSE_train)"
      ],
      "execution_count": null,
      "outputs": [
        {
          "output_type": "stream",
          "name": "stdout",
          "text": [
            "0.00017582566439460675\n"
          ]
        }
      ]
    },
    {
      "cell_type": "code",
      "metadata": {
        "colab": {
          "base_uri": "https://localhost:8080/"
        },
        "id": "u-qMMj32_5tU",
        "outputId": "1dbd9833-a114-4479-9e2c-67321456275a"
      },
      "source": [
        "RMSE_val = np.sqrt(mean_squared_error(yPred_val, y_val))\n",
        "print(RMSE_val)"
      ],
      "execution_count": null,
      "outputs": [
        {
          "output_type": "stream",
          "name": "stdout",
          "text": [
            "0.00017098053894782936\n"
          ]
        }
      ]
    },
    {
      "cell_type": "markdown",
      "metadata": {
        "id": "tceGCk1V3NG_"
      },
      "source": [
        "## Part 3 - Full Batch Gradient Descent [2 marks]"
      ]
    },
    {
      "cell_type": "markdown",
      "metadata": {
        "id": "v9DMAs3I3NHB"
      },
      "source": [
        "We will now implement a \"full batch\" gradient descent algorithm and record the training time for our model. Recall that the full batch gradient descent is,\n",
        " $$w_t = w_{t-1} - \\alpha~g_t$$ where $\\alpha$ is the learning rate and $g_t$ is your gradient, computed on the entire data. \n",
        "\n",
        "Here are the steps for this part:\n",
        "\n",
        "* Implement gradient descent for linear regression using a fixed learning rate of $\\alpha= 0.01$, and iterate until your model's **validation** RMSE converges. \n",
        "\n",
        "  We consider the gradient descent as having converged when RMSE on the validation set using gradient descent satisfies:\n",
        "\n",
        "  $$ RMSE_\\text{GD} \\leq 1.001 \\times RMSE_\\text{Direct Solution}$$\n",
        "\n",
        "  where $RMSE_\\text{Direct Solution}$ is the RMSE on the validation set using the direct solution that you have calculated in the previous part. \n",
        "\n",
        "  We refer to the quantity $RMSE_\\text{Direct Solution}\\times 1.001$ as the convergence threshold (CT).\n",
        "\n",
        "*  Record the training time (from the first iteration until convergence) using the `time.time()` function. Be sure to compute the gradients yourself! Take a look at the code provided in the tutorial. **[0.5]**\n",
        "\n",
        "* Plot the training RMSE and the validation RMSE vs. epoch on the same figure.  **[0.5]**\n",
        "\n",
        "* Comment on overfitting/underfitting by observing the training and validation RMSE **[1]**\n",
        "\n",
        "**Hint**: Initialize your weights with small random numbers (<$0.001$)"
      ]
    },
    {
      "cell_type": "code",
      "metadata": {
        "id": "G3KOOJ8m5SAs",
        "colab": {
          "base_uri": "https://localhost:8080/",
          "height": 348
        },
        "outputId": "961af2ac-fd94-4daa-b260-6142ba0427fd"
      },
      "source": [
        "import time\n",
        "start_time = time.time() ## Records current time\n",
        "\n",
        "## GD Script -- Sample code in tutorial! ##\n",
        "\n",
        "#X_GD = np.concatenate((X_train_std,X_val_std, X_test_std))\n",
        "#y_GD = np.concatenate((y_train,y_val, y_test)).reshape(1,-1).T\n",
        "\n",
        "X_GD =X_train_std\n",
        "y_GD = y_train.to_numpy().reshape((-1,1))\n",
        "\n",
        "w = (np.random.uniform(0,0.001,X_GD.shape[1])).reshape(1,-1) ### Inital weights\n",
        "lr = .001\n",
        "ct = 1.001 * RMSE_val\n",
        "rmse_train=[]\n",
        "rmse_validation = []\n",
        "\n",
        "\n",
        "for epoch in range (0, 300000): \n",
        "  y_pre= np.dot(X_GD,w.T).reshape (-1,1)\n",
        "  y_val_pre = np.dot(X_val_std,w.T).reshape (-1,1)\n",
        "  rmse_train.append(np.sqrt(mean_squared_error(y_pre, y_GD)))\n",
        "  rmse_validation.append(np.sqrt(mean_squared_error(y_val_pre, y_val.to_numpy().reshape((-1,1)))))\n",
        "  #print(rmse_validation[-1])\n",
        "  gradient = (1/len(y_pre) * np.dot(X_GD.T, y_pre-y_GD)).reshape(1,-1)\n",
        "  w = w - lr * gradient ### weight update\n",
        "  if rmse_validation[-1] <= ct:\n",
        "    break\n",
        "\n",
        "\n",
        "print (\"X: \", X_GD.shape)\n",
        "print (\"w: \", w.shape)\n",
        "print (\"y: \", y_GD.shape)\n",
        "#print (\"t: \", t.shape)\n",
        "plt.plot(rmse_train,label = \"rmse_train\")\n",
        "plt.plot(rmse_validation, label = \"rmse_validation\")\n",
        "plt.xlabel(\"Epoch\")\n",
        "plt.ylabel(\"RMSE\")\n",
        "plt.legend()\n",
        "plt.show()\n",
        "\n",
        "\n",
        "print(\"--- Total Training Time: %s (s) ---\" % (time.time() - start_time))"
      ],
      "execution_count": null,
      "outputs": [
        {
          "output_type": "stream",
          "name": "stdout",
          "text": [
            "X:  (9624, 41)\n",
            "w:  (1, 41)\n",
            "y:  (9624, 1)\n"
          ]
        },
        {
          "output_type": "display_data",
          "data": {
            "image/png": "[encoded data removed]",
            "text/plain": [
              "<Figure size 432x288 with 1 Axes>"
            ]
          },
          "metadata": {
            "needs_background": "light"
          }
        },
        {
          "output_type": "stream",
          "name": "stdout",
          "text": [
            "--- Total Training Time: 283.47765827178955 (s) ---\n"
          ]
        }
      ]
    },
    {
      "cell_type": "code",
      "metadata": {
        "colab": {
          "base_uri": "https://localhost:8080/"
        },
        "id": "L0ZtDSuQR1N3",
        "outputId": "996ddbf0-5b15-4cb5-c695-364bda0d7ecf"
      },
      "source": [
        "print(rmse_validation[-1])\n",
        "len(rmse_validation)"
      ],
      "execution_count": null,
      "outputs": [
        {
          "output_type": "stream",
          "name": "stdout",
          "text": [
            "0.0001711515152924467\n"
          ]
        },
        {
          "output_type": "execute_result",
          "data": {
            "text/plain": [
              "263676"
            ]
          },
          "metadata": {},
          "execution_count": 160
        }
      ]
    },
    {
      "cell_type": "markdown",
      "metadata": {
        "id": "yXkcT3HStG9F"
      },
      "source": [
        "From the \"Epoch vs RMSE\" graph, we see that when the epoch number increase, the RMSE decrease. Especially after 1000 epoch, the RMSE sharpely decrease and become lower than 0.002 and close to 0. Since the Training and Validation results are very close to each other, we can say there are neither overfitting nor underfitting.\n"
      ]
    },
    {
      "cell_type": "markdown",
      "metadata": {
        "id": "K3xwmhsr3NHS"
      },
      "source": [
        "## Part 4 - Mini-batch and Stochastic Gradient Descent [4 marks]"
      ]
    },
    {
      "cell_type": "markdown",
      "metadata": {
        "id": "rbItQ_C5Af_-"
      },
      "source": [
        "Write a function that performs mini-batch gradient descent until the convergence threshold (CT) is reached. **[1]**\n",
        "\n",
        "The inputs of that function are: \n",
        "  * Input data (training/validation), Batch size, Learning Rate, Convergence Threshold (CT)\n",
        "\n",
        "Your function will return the following arrays: \n",
        " * The final weights after training.\n",
        " * The training RMSE at each epoch.\n",
        " * The validation RMSE at each epoch.\n",
        " * An array that has the elapsed time from the start of the training process to the end of each epoch (e.g., if each epoch takes exactly 2 seconds, the array would look like: [2 4 6 8 ...]).\n",
        "\n",
        "Notes: \n",
        "* For certain batch sizes, GD might not converge to a solution. For that reason, you need to check the RMSE of the validation/training set at each epoch, and if it's getting larger and larger, you should stop the training for that case (the design is up to you!).\n",
        "* CT will help you to know when your model is converged. \n",
        "* **Important: after each epoch, you need to shuffle the entire training set.** This ensures that new mini-batches are selected for every epoch. Hint: use `np.random.permutation`. \n",
        "\n",
        "Let's now use the function to investigate the effect of batch size on convergence. When the batch size is 1, we call that stochastic gradient descent. When the batch size equals the # of training data, it is full-batch (i.e., all data points are used at every iteration). Anywhere in between is mini-batch (we use some of the data).\n",
        "  * Sweep different values for the mini-batch size (at least 5 values), each time using a learning rate of $\\alpha= 0.01$. **Hint: Try batch sizes that are powers of two (e.g., 2,4,8,16,32,64,128...).** These batch sizes fit better on the hardware and may achieve higher performance.  **[0.5]**\n",
        "\n",
        "Provide the following $3$ plots:\n",
        "  1.  Plot training and validation RMSE vs. **epoch** for all the **converging** batch sizes (some batch sizes might not converge) in a figure. The X-axis is Epoch # and the Y-axis is RMSE. **[0.5]**\n",
        "  2. Plot training and validation RMSE vs. **time** for all the **converging** batch sizes in a figure. The X-axis is Time, and the Y-axis is RMSE. **[0.5]**\n",
        "  3. Plot Total training time (y-axis) vs. Batch size (x-axis). **[0.5]**\n",
        "\n",
        "Describe your findings, including the main takeaways from each of your plots. **[1]**"
      ]
    },
    {
      "cell_type": "code",
      "metadata": {
        "id": "jGQ4_OPkleDq"
      },
      "source": [
        "### YOUR CODE HERE ###\n",
        "X_GD =X_train_std\n",
        "y_GD = y_train.to_numpy().reshape((-1,1))\n",
        "\n",
        "def create_mini_batches(X, y, batch_size):\n",
        "    mini_batches = []\n",
        "    train_data = np.hstack((X, y))\n",
        "    np.random.permutation(train_data)\n",
        "    n_minibatch = train_data.shape[0] // batch_size\n",
        "    i = 0\n",
        "  \n",
        "    for i in range(n_minibatch + 1):\n",
        "        mini_batch = train_data[i * batch_size:(i + 1)*batch_size, :]\n",
        "        X_mini = mini_batch[:, :-1]\n",
        "        Y_mini = mini_batch[:, -1].reshape((-1, 1))\n",
        "        mini_batches.append((X_mini, Y_mini))\n",
        "    \n",
        "    return mini_batches\n"
      ],
      "execution_count": null,
      "outputs": []
    },
    {
      "cell_type": "code",
      "metadata": {
        "id": "gn1hZUWxLYSS"
      },
      "source": [
        "#create_mini_batches(X_GD,y_GD,128)"
      ],
      "execution_count": null,
      "outputs": []
    },
    {
      "cell_type": "code",
      "metadata": {
        "id": "epAyx2VCl8yT"
      },
      "source": [
        "import time\n",
        "start_time = time.time() ## Records current time\n",
        "\n",
        "X_GD =X_train_std\n",
        "y_GD = y_train.to_numpy().reshape((-1,1))\n",
        "\n",
        "\n",
        "def mini_batch(X,y,batch_size,lr,ct):\n",
        "  orig_run_time = 0\n",
        "  total_start_time = time.time()\n",
        "  w = (np.random.uniform(0,0.001,X.shape[1])).reshape(1,-1) ### Inital weights\n",
        "  rmse_train=[]\n",
        "  rmse_validation = []\n",
        "  #rmse_val_mini = []\n",
        "  elapsed_time = []\n",
        "\n",
        "  for epoch in range (0, 2000):\n",
        "    start_time = time.time()\n",
        "    mini_batches = create_mini_batches(X, y, batch_size)\n",
        "    #print(mini_batches)\n",
        "    for mini_batch in mini_batches:\n",
        "      X_mini, y_mini = mini_batch\n",
        "      \n",
        "      y_pre= np.dot(X_mini,w.T).reshape (-1,1)\n",
        "      gradient = (1/len(y_pre) * np.dot(X_mini.T, y_pre-y_mini)).reshape(1,-1)\n",
        "      w = w - lr * gradient ### weight update\n",
        "           \n",
        "\n",
        "\n",
        "    y_final_pre= np.dot(X_GD,w.T).reshape (-1,1)\n",
        "    rmse_train.append(np.sqrt(mean_squared_error(y_final_pre, y_GD)))\n",
        "    y_val_pre = np.dot(X_val_std,w.T).reshape (-1,1)\n",
        "    rmse_vali = np.sqrt(mean_squared_error(y_val_pre, y_val.to_numpy().reshape((-1,1))))\n",
        "    rmse_validation.append(rmse_vali)\n",
        "    \n",
        "    \n",
        "\n",
        "    if len(rmse_validation) > 4 and  rmse_vali > rmse_validation[-2]:\n",
        "      run_time = time.time() - start_time\n",
        "      elapsed_time.append(run_time)\n",
        "      break\n",
        "    \n",
        "    if rmse_validation[-1] <= ct:\n",
        "      run_time = time.time() - start_time\n",
        "      elapsed_time.append(run_time)\n",
        "      break\n",
        "    \n",
        "    run_time = time.time() - start_time\n",
        "    orig_run_time = orig_run_time + run_time\n",
        "    elapsed_time.append(orig_run_time)\n",
        "    \n",
        "  \n",
        "  total_run_time = time.time() - total_start_time\n",
        "  return w, rmse_train, rmse_validation,elapsed_time,total_run_time"
      ],
      "execution_count": 35,
      "outputs": []
    },
    {
      "cell_type": "code",
      "metadata": {
        "id": "Siz2EZRYQWtu"
      },
      "source": [
        "X_GD =X_train_std\n",
        "y_GD = y_train.to_numpy().reshape((-1,1))\n",
        "\n",
        "\n",
        "w_128, rmse_train_128, rmse_validation_128,elapsed_time_128,total_run_time128 = mini_batch(X_GD,y_GD,batch_size = 128,lr = 0.01,ct = 1.001 * RMSE_val)\n",
        "w_256, rmse_train_256, rmse_validation_256,elapsed_time_256,total_run_time256 = mini_batch(X_GD,y_GD,batch_size = 256,lr = 0.01,ct = 1.001 * RMSE_val)\n",
        "w_512, rmse_train_512, rmse_validation_512,elapsed_time_512,total_run_time512 = mini_batch(X_GD,y_GD,batch_size = 512,lr = 0.01,ct = 1.001 * RMSE_val)\n",
        "w_64, rmse_train_64, rmse_validation_64,elapsed_time_64,total_run_time64 = mini_batch(X_GD,y_GD,batch_size = 64,lr = 0.01,ct = 1.001 * RMSE_val)\n",
        "w_32, rmse_train_32, rmse_validation_32,elapsed_time_32,total_run_time32 = mini_batch(X_GD,y_GD,batch_size = 32,lr = 0.01,ct = 1.001 * RMSE_val)"
      ],
      "execution_count": 37,
      "outputs": []
    },
    {
      "cell_type": "code",
      "metadata": {
        "colab": {
          "base_uri": "https://localhost:8080/",
          "height": 279
        },
        "id": "622wr06KTTD2",
        "outputId": "d514ccb6-8f29-47f9-f307-5c6059ab7ad7"
      },
      "source": [
        "\n",
        "#plt.plot(rmse_train_32,label = \"rmse_train_32\")\n",
        "#plt.plot(rmse_validation_32, label = \"rmse_validation_32\")\n",
        "plt.plot(rmse_train_64,label = \"rmse_train_64\")\n",
        "plt.plot(rmse_validation_64, label = \"rmse_validation_64\")\n",
        "plt.plot(rmse_train_128,label = \"rmse_train_128\")\n",
        "plt.plot(rmse_validation_128, label = \"rmse_validation_128\")\n",
        "plt.plot(rmse_train_256,label = \"rmse_train_256\")\n",
        "plt.plot(rmse_validation_256, label = \"rmse_validation_256\")\n",
        "plt.plot(rmse_train_512,label = \"rmse_train_512\")\n",
        "plt.plot(rmse_validation_512, label = \"rmse_validation_512\")\n",
        "\n",
        "plt.xlabel(\"Epoch\")\n",
        "plt.ylabel(\"RMSE\")\n",
        "plt.legend()\n",
        "plt.show()"
      ],
      "execution_count": 32,
      "outputs": [
        {
          "output_type": "display_data",
          "data": {
            "image/png": "[encoded data removed]",
            "text/plain": [
              "<Figure size 432x288 with 1 Axes>"
            ]
          },
          "metadata": {
            "needs_background": "light"
          }
        }
      ]
    },
    {
      "cell_type": "code",
      "metadata": {
        "colab": {
          "base_uri": "https://localhost:8080/",
          "height": 279
        },
        "id": "C5ocloAIgVbU",
        "outputId": "7f7b6c8b-516b-4e35-aed4-f8c6aa897bbc"
      },
      "source": [
        "#plt.plot(elapsed_time_32,rmse_train_32,label = \"rmse_train_32\")\n",
        "#plt.plot(elapsed_time_32,rmse_validation_32, label = \"rmse_validation_32\")\n",
        "plt.plot(elapsed_time_64,rmse_train_64,label = \"rmse_train_64\")\n",
        "plt.plot(elapsed_time_64,rmse_validation_64, label = \"rmse_validation_64\")\n",
        "plt.plot(elapsed_time_128,rmse_train_128,label = \"rmse_train_128\")\n",
        "plt.plot(elapsed_time_128,rmse_validation_128, label = \"rmse_validation_128\")\n",
        "plt.plot(elapsed_time_256,rmse_train_256,label = \"rmse_train_256\")\n",
        "plt.plot(elapsed_time_256,rmse_validation_256, label = \"rmse_validation_256\")\n",
        "plt.plot(elapsed_time_512,rmse_train_512,label = \"rmse_train_512\")\n",
        "plt.plot(elapsed_time_512,rmse_validation_512, label = \"rmse_validation_512\")\n",
        "\n",
        "plt.xlabel(\"Time\")\n",
        "plt.ylabel(\"RMSE\")\n",
        "plt.legend()\n",
        "plt.show()"
      ],
      "execution_count": 38,
      "outputs": [
        {
          "output_type": "display_data",
          "data": {
            "image/png": "[encoded data removed]",
            "text/plain": [
              "<Figure size 432x288 with 1 Axes>"
            ]
          },
          "metadata": {
            "needs_background": "light"
          }
        }
      ]
    },
    {
      "cell_type": "code",
      "metadata": {
        "colab": {
          "base_uri": "https://localhost:8080/",
          "height": 296
        },
        "id": "w4Oz9i2VidTO",
        "outputId": "cb682a2b-bba9-4c7e-b22c-a49d3123ece1"
      },
      "source": [
        "batch_size_lst = [32,64,128,256,512]\n",
        "total_time_lst = [total_run_time32,total_run_time64,total_run_time128,total_run_time256,total_run_time512]\n",
        "\n",
        "plt.plot(batch_size_lst,total_time_lst)\n",
        "plt.ylabel(\"Total Running Time\")\n",
        "plt.xlabel(\"Batch\")"
      ],
      "execution_count": 34,
      "outputs": [
        {
          "output_type": "execute_result",
          "data": {
            "text/plain": [
              "Text(0.5, 0, 'Batch')"
            ]
          },
          "metadata": {},
          "execution_count": 34
        },
        {
          "output_type": "display_data",
          "data": {
            "image/png": "[encoded data removed]",
            "text/plain": [
              "<Figure size 432x288 with 1 Axes>"
            ]
          },
          "metadata": {
            "needs_background": "light"
          }
        }
      ]
    },
    {
      "cell_type": "markdown",
      "metadata": {
        "id": "PLUQSGlnjol6"
      },
      "source": [
        "**Describe Findings**\n",
        "\n",
        "From the first plot\"RMSE vs Epoch\" We notice that the more epoch we run, the less RMSE we get. After approximately 100 epoch, the RMSE is less than 0.0001. Comparing the validation set result and the training set result, the RMSE graph of both are close enough, so we can say that there is neither overfiting nor overfitting.\n",
        "\n",
        "From the second plot \"RMSE vs TIME\" we can see that the shape is similar to the \"RMSE vs Epoch\" plot. Ater 0.1, the RMSE sharply decrease to near 0. When the epoch running time increase, the RMSE decrease.\n",
        "\n",
        "From the third plot 'Total Training time vs Batch size\" We notice that when the batch size increase, the Total training time increase and it's nearly linear relationship between these two factors.\n",
        "\n"
      ]
    },
    {
      "cell_type": "markdown",
      "metadata": {
        "id": "wFjuxbtkCC35"
      },
      "source": [
        "## Part 5 - Introducing Momentum [3.5 marks]\n",
        "\n",
        "Momentum is a popular technique that helps the gradient descent algorithm to converge faster. Simply, it behaves like a moving average of gradients. First, take a look at [here](https://towardsdatascience.com/stochastic-gradient-descent-with-momentum-a84097641a5d) to get familiar with the concept.\n",
        "\n",
        "To summarize, If the weight update formula in the time-step $t$ is $w_t = w_{t-1} - \\alpha~g_t$, the $g_t$ using momentum could be computed as $g_t = \\beta~g_{t-1} + (1-\\beta) \\frac{{\\partial J}}{\\partial w}$. Where $\\beta$ is the momentum coefficient, between [0, 1]. \n",
        "\n",
        "Weight updates ($g_t$) with momentum are not only computed based on the derivative of the loss function but also is a function of previous weight updates.\n",
        "\n",
        "If you put $\\beta=0$ in the $g_t$ equation, it would be the original gradient descent method. \n",
        "\n",
        "* Add momentum to your training function. **[1]**\n",
        "* Train a linear model with a specific batch size and various values of momentums. \n",
        "  *  Plot your training and validation RMSE for each epoch. **[1]**\n",
        "  *  With some plots (or tables) show how momentum affects the training time.  **[1]**\n",
        "  * Summarize your experiments and comment on the effect of momentum. **[0.5]**"
      ]
    },
    {
      "cell_type": "code",
      "metadata": {
        "id": "gokrwR6wszKE"
      },
      "source": [
        "import time\n",
        "start_time = time.time() ## Records current time\n",
        "\n",
        "X_GD =X_train_std\n",
        "y_GD = y_train.to_numpy().reshape((-1,1))\n",
        "\n",
        "\n",
        "def mini_batch_mot(X,y,batch_size,lr,ct,beta):\n",
        "  orig_run_time = 0\n",
        "  total_start_time = time.time()\n",
        "  w = (np.random.uniform(0,0.001,X.shape[1])).reshape(1,-1) ### Inital weights\n",
        "  rmse_train=[]\n",
        "  rmse_validation = []\n",
        "  #rmse_val_mini = []\n",
        "  elapsed_time = []\n",
        "\n",
        "  for epoch in range (0, 2000):\n",
        "    start_time = time.time()\n",
        "    mini_batches = create_mini_batches(X, y, batch_size)\n",
        "    #print(mini_batches)\n",
        "    gradient_old = 0\n",
        "\n",
        "\n",
        "    for mini_batch in mini_batches:\n",
        "      X_mini, y_mini = mini_batch\n",
        "      \n",
        "\n",
        "      y_pre= np.dot(X_mini,w.T).reshape (-1,1)\n",
        "      theta = (1/len(y_pre) * np.dot(X_mini.T, y_pre-y_mini)).reshape(1,-1)\n",
        "      gradient = beta * gradient_old + (1-beta) * theta\n",
        "      gradient_old = gradient\n",
        "      w = w - lr * gradient ### weight update     \n",
        "\n",
        "\n",
        "    y_final_pre= np.dot(X_GD,w.T).reshape (-1,1)\n",
        "    rmse_train.append(np.sqrt(mean_squared_error(y_final_pre, y_GD)))\n",
        "    y_val_pre = np.dot(X_val_std,w.T).reshape (-1,1)\n",
        "    rmse_vali = np.sqrt(mean_squared_error(y_val_pre, y_val.to_numpy().reshape((-1,1))))\n",
        "    rmse_validation.append(rmse_vali)\n",
        "    \n",
        "    \n",
        "\n",
        "    if len(rmse_validation) > 4 and  rmse_vali > rmse_validation[-2]:\n",
        "      run_time = time.time() - start_time\n",
        "      elapsed_time.append(run_time)\n",
        "      break\n",
        "    \n",
        "    if rmse_validation[-1] <= ct:\n",
        "      run_time = time.time() - start_time\n",
        "      elapsed_time.append(run_time)\n",
        "      break\n",
        "    \n",
        "    run_time = time.time() - start_time\n",
        "    orig_run_time = orig_run_time + run_time\n",
        "    elapsed_time.append(orig_run_time)\n",
        "    \n",
        "  \n",
        "  total_run_time = time.time() - total_start_time\n",
        "  return w, rmse_train, rmse_validation,elapsed_time,total_run_time"
      ],
      "execution_count": 50,
      "outputs": []
    },
    {
      "cell_type": "code",
      "metadata": {
        "id": "E80R3xm5nbd8"
      },
      "source": [
        "w_0, rmse_train_0, rmse_validation_0,elapsed_time_0,total_run_time0 = mini_batch_mot(X_GD,y_GD,batch_size = 256,lr = 0.01,ct = 1.001 * RMSE_val,beta = 0)\n",
        "w_3, rmse_train_3, rmse_validation_3,elapsed_time_3,total_run_time3 = mini_batch_mot(X_GD,y_GD,batch_size = 256,lr = 0.01,ct = 1.001 * RMSE_val,beta = 0.3)\n",
        "w_6, rmse_train_6, rmse_validation_6,elapsed_time_6,total_run_time6 = mini_batch_mot(X_GD,y_GD,batch_size = 256,lr = 0.01,ct = 1.001 * RMSE_val,beta = 0.6)\n",
        "w_9, rmse_train_9, rmse_validation_9,elapsed_time_9,total_run_time9 = mini_batch_mot(X_GD,y_GD,batch_size = 256,lr = 0.01,ct = 1.001 * RMSE_val,beta = 0.9)"
      ],
      "execution_count": 51,
      "outputs": []
    },
    {
      "cell_type": "code",
      "metadata": {
        "colab": {
          "base_uri": "https://localhost:8080/",
          "height": 279
        },
        "id": "Y9OA85xRpA_5",
        "outputId": "e149aeed-c6ee-469e-ad66-6ccbb2c7200c"
      },
      "source": [
        "plt.plot(rmse_train_0,label = \"rmse_train_0\")\n",
        "plt.plot(rmse_validation_0, label = \"rmse_validation_0\")\n",
        "plt.plot(rmse_train_3,label = \"rmse_train_0.3\")\n",
        "plt.plot(rmse_validation_3, label = \"rmse_validation_0.3\")\n",
        "plt.plot(rmse_train_6,label = \"rmse_train_0.6\")\n",
        "plt.plot(rmse_validation_6, label = \"rmse_validation_0.6\")\n",
        "plt.plot(rmse_train_9,label = \"rmse_train_0.9\")\n",
        "plt.plot(rmse_validation_9, label = \"rmse_validation_0.9\")\n",
        "\n",
        "plt.xlabel(\"Epoch\")\n",
        "plt.ylabel(\"RMSE\")\n",
        "plt.legend()\n",
        "plt.show()"
      ],
      "execution_count": 52,
      "outputs": [
        {
          "output_type": "display_data",
          "data": {
            "image/png": "[encoded data removed]",
            "text/plain": [
              "<Figure size 432x288 with 1 Axes>"
            ]
          },
          "metadata": {
            "needs_background": "light"
          }
        }
      ]
    },
    {
      "cell_type": "code",
      "metadata": {
        "colab": {
          "base_uri": "https://localhost:8080/",
          "height": 296
        },
        "id": "faiLlhDkpeas",
        "outputId": "b6bd62d7-b405-4807-c0bd-0af4a8f18a5a"
      },
      "source": [
        "momentum_lst = [0,0.3,0.6,0.9]\n",
        "time_lst = [total_run_time0,total_run_time3,total_run_time6,total_run_time9]\n",
        "\n",
        "plt.plot(momentum_lst,time_lst)\n",
        "plt.ylabel(\"Total Running Time\")\n",
        "plt.xlabel(\"Momentum Value\")"
      ],
      "execution_count": 53,
      "outputs": [
        {
          "output_type": "execute_result",
          "data": {
            "text/plain": [
              "Text(0.5, 0, 'Momentum Value')"
            ]
          },
          "metadata": {},
          "execution_count": 53
        },
        {
          "output_type": "display_data",
          "data": {
            "image/png": "[encoded data removed]",
            "text/plain": [
              "<Figure size 432x288 with 1 Axes>"
            ]
          },
          "metadata": {
            "needs_background": "light"
          }
        }
      ]
    },
    {
      "cell_type": "markdown",
      "metadata": {
        "id": "W9CA8V7jp_iS"
      },
      "source": [
        "**Summary**\n",
        "\n",
        "From the first plot we can see that the \"RMSE vs Epoch\" graph is similar to the previous training model, so not much difference that the momentum has on the RMSE element. The RMSE after 100 is close to zero and there are not overfitting or underfitting in this model.\n",
        "\n",
        "However, we notice that when beta is 0, it's the same as original GD method. But we can find an optimal beta so that minimize the running time for a specific batch size. Here is around 0.3, the running time is minimum and later it starts to incrase. And the running time using this beta is much less than the original GD method's running time."
      ]
    },
    {
      "cell_type": "markdown",
      "metadata": {
        "id": "JQlyGwUsfIYE"
      },
      "source": [
        "## Part 6 - Finalizing a model [1 marks]\n",
        "Based on your findings from the previous parts, pick a model (or combination of model settings) that you think would work best for our dataset and evaluate it on the test set. \n",
        "\n",
        "Briefly describe your model selections/settings. **[0.5]** \n",
        "\n",
        "Summarize the performance of your model for the task of managing ailerons of an aircraft. **[0.5]** "
      ]
    },
    {
      "cell_type": "code",
      "metadata": {
        "id": "9f-s_HRffwlR"
      },
      "source": [
        "#I would choose using the mini_batch training method with the momentum, using beta = 0.3 and batch size = 128. \n",
        "#choose the Learning Rate = 0.01,the max epoch number of 2000."
      ],
      "execution_count": null,
      "outputs": []
    },
    {
      "cell_type": "code",
      "metadata": {
        "id": "6na86hR4Kmk4"
      },
      "source": [
        "import time\n",
        "start_time = time.time() ## Records current time\n",
        "\n",
        "X_GD =X_train_std\n",
        "y_GD = y_train.to_numpy().reshape((-1,1))\n",
        "\n",
        "\n",
        "def mini_batch_final(X,y,batch_size = 128 ,lr = 0.01,beta = 0.3):\n",
        "  orig_run_time = 0\n",
        "  total_start_time = time.time()\n",
        "  w = (np.random.uniform(0,0.001,X.shape[1])).reshape(1,-1) ### Inital weights\n",
        "  elapsed_time = []\n",
        "\n",
        "  for epoch in range (0, 2000):\n",
        "    start_time = time.time()\n",
        "    mini_batches = create_mini_batches(X, y, batch_size)\n",
        "    #print(mini_batches)\n",
        "    gradient_old = 0\n",
        "\n",
        "\n",
        "    for mini_batch in mini_batches:\n",
        "      X_mini, y_mini = mini_batch\n",
        "      \n",
        "\n",
        "      y_pre= np.dot(X_mini,w.T).reshape (-1,1)\n",
        "      theta = (1/len(y_pre) * np.dot(X_mini.T, y_pre-y_mini)).reshape(1,-1)\n",
        "      gradient = beta * gradient_old + (1-beta) * theta\n",
        "      gradient_old = gradient\n",
        "      w = w - lr * gradient ### weight update     \n",
        "\n",
        "\n",
        "    y_final_pre= np.dot(X_GD,w.T).reshape (-1,1)\n",
        "    rmse_train = np.sqrt(mean_squared_error(y_final_pre, y_GD))\n",
        "    y_test_pre = np.dot(X_test_std,w.T).reshape (-1,1)\n",
        "    rmse_test = np.sqrt(mean_squared_error(y_test_pre, y_test.to_numpy().reshape((-1,1))))\n",
        "    \n",
        "    \n",
        "    run_time = time.time() - start_time\n",
        "    orig_run_time = orig_run_time + run_time\n",
        "    elapsed_time.append(orig_run_time)\n",
        "    \n",
        "  \n",
        "  total_run_time = time.time() - total_start_time\n",
        "  print(\"The RMSE on the test set : \" , rmse_test)\n",
        "  print(\"The total running time is \", total_run_time)\n",
        "  return rmse_test,total_run_time"
      ],
      "execution_count": 60,
      "outputs": []
    },
    {
      "cell_type": "code",
      "metadata": {
        "colab": {
          "base_uri": "https://localhost:8080/"
        },
        "id": "Yir1Eyi3LuLR",
        "outputId": "331f058a-d8fc-4114-d36a-34b89a4fa7dc"
      },
      "source": [
        "mini_batch_final(X_GD,y_GD,batch_size = 128 ,lr = 0.01,beta = 0.3)"
      ],
      "execution_count": 61,
      "outputs": [
        {
          "output_type": "stream",
          "name": "stdout",
          "text": [
            "The RMSE on the test set :  0.00017017614376036436\n",
            "The total running time is  15.695916414260864\n"
          ]
        },
        {
          "output_type": "execute_result",
          "data": {
            "text/plain": [
              "(0.00017017614376036436, 15.695916414260864)"
            ]
          },
          "metadata": {},
          "execution_count": 61
        }
      ]
    },
    {
      "cell_type": "markdown",
      "metadata": {
        "id": "NMcQXRInMmKq"
      },
      "source": [
        "By using this model, the RMSE on the test set is 0.00017017614376036436 which is very small. This means our prediction model fits well on our data set. Also the running time is around 15s, which is also very efficient."
      ]
    }
  ]
}